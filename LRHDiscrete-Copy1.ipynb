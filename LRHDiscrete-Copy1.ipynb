{
 "cells": [
  {
   "cell_type": "code",
   "execution_count": 1,
   "id": "1f12274a",
   "metadata": {},
   "outputs": [],
   "source": [
    "import numpy as np\n",
    "import pandas as pd\n",
    "import matplotlib.pyplot as plt\n",
    "\n",
    "import pylab as pl\n",
    "\n",
    "import scipy.optimize as opt\n",
    "from sklearn import preprocessing\n",
    "%matplotlib inline \n"
   ]
  },
  {
   "cell_type": "code",
   "execution_count": 2,
   "id": "f5bcd4d2",
   "metadata": {},
   "outputs": [
    {
     "data": {
      "text/html": [
       "<div>\n",
       "<style scoped>\n",
       "    .dataframe tbody tr th:only-of-type {\n",
       "        vertical-align: middle;\n",
       "    }\n",
       "\n",
       "    .dataframe tbody tr th {\n",
       "        vertical-align: top;\n",
       "    }\n",
       "\n",
       "    .dataframe thead th {\n",
       "        text-align: right;\n",
       "    }\n",
       "</style>\n",
       "<table border=\"1\" class=\"dataframe\">\n",
       "  <thead>\n",
       "    <tr style=\"text-align: right;\">\n",
       "      <th></th>\n",
       "      <th>age</th>\n",
       "      <th>sex</th>\n",
       "      <th>cp</th>\n",
       "      <th>trestbps</th>\n",
       "      <th>chol</th>\n",
       "      <th>fbs</th>\n",
       "      <th>restecg</th>\n",
       "      <th>thalach</th>\n",
       "      <th>exang</th>\n",
       "      <th>oldpeak</th>\n",
       "      <th>slope</th>\n",
       "      <th>ca</th>\n",
       "      <th>thal</th>\n",
       "      <th>num</th>\n",
       "    </tr>\n",
       "  </thead>\n",
       "  <tbody>\n",
       "    <tr>\n",
       "      <th>0</th>\n",
       "      <td>63</td>\n",
       "      <td>1</td>\n",
       "      <td>1</td>\n",
       "      <td>145</td>\n",
       "      <td>233</td>\n",
       "      <td>1</td>\n",
       "      <td>2</td>\n",
       "      <td>150</td>\n",
       "      <td>0</td>\n",
       "      <td>2.3</td>\n",
       "      <td>3</td>\n",
       "      <td>0</td>\n",
       "      <td>6</td>\n",
       "      <td>0</td>\n",
       "    </tr>\n",
       "    <tr>\n",
       "      <th>1</th>\n",
       "      <td>67</td>\n",
       "      <td>1</td>\n",
       "      <td>4</td>\n",
       "      <td>160</td>\n",
       "      <td>286</td>\n",
       "      <td>0</td>\n",
       "      <td>2</td>\n",
       "      <td>108</td>\n",
       "      <td>1</td>\n",
       "      <td>1.5</td>\n",
       "      <td>2</td>\n",
       "      <td>3</td>\n",
       "      <td>3</td>\n",
       "      <td>1</td>\n",
       "    </tr>\n",
       "    <tr>\n",
       "      <th>2</th>\n",
       "      <td>67</td>\n",
       "      <td>1</td>\n",
       "      <td>4</td>\n",
       "      <td>120</td>\n",
       "      <td>229</td>\n",
       "      <td>0</td>\n",
       "      <td>2</td>\n",
       "      <td>129</td>\n",
       "      <td>1</td>\n",
       "      <td>2.6</td>\n",
       "      <td>2</td>\n",
       "      <td>2</td>\n",
       "      <td>7</td>\n",
       "      <td>1</td>\n",
       "    </tr>\n",
       "    <tr>\n",
       "      <th>3</th>\n",
       "      <td>37</td>\n",
       "      <td>1</td>\n",
       "      <td>3</td>\n",
       "      <td>130</td>\n",
       "      <td>250</td>\n",
       "      <td>0</td>\n",
       "      <td>0</td>\n",
       "      <td>187</td>\n",
       "      <td>0</td>\n",
       "      <td>3.5</td>\n",
       "      <td>3</td>\n",
       "      <td>0</td>\n",
       "      <td>3</td>\n",
       "      <td>0</td>\n",
       "    </tr>\n",
       "    <tr>\n",
       "      <th>4</th>\n",
       "      <td>41</td>\n",
       "      <td>0</td>\n",
       "      <td>2</td>\n",
       "      <td>130</td>\n",
       "      <td>204</td>\n",
       "      <td>0</td>\n",
       "      <td>2</td>\n",
       "      <td>172</td>\n",
       "      <td>0</td>\n",
       "      <td>1.4</td>\n",
       "      <td>1</td>\n",
       "      <td>0</td>\n",
       "      <td>3</td>\n",
       "      <td>0</td>\n",
       "    </tr>\n",
       "  </tbody>\n",
       "</table>\n",
       "</div>"
      ],
      "text/plain": [
       "   age  sex  cp  trestbps  chol  fbs  restecg  thalach  exang  oldpeak  slope  \\\n",
       "0   63    1   1       145   233    1        2      150      0      2.3      3   \n",
       "1   67    1   4       160   286    0        2      108      1      1.5      2   \n",
       "2   67    1   4       120   229    0        2      129      1      2.6      2   \n",
       "3   37    1   3       130   250    0        0      187      0      3.5      3   \n",
       "4   41    0   2       130   204    0        2      172      0      1.4      1   \n",
       "\n",
       "   ca  thal  num  \n",
       "0   0     6    0  \n",
       "1   3     3    1  \n",
       "2   2     7    1  \n",
       "3   0     3    0  \n",
       "4   0     3    0  "
      ]
     },
     "execution_count": 2,
     "metadata": {},
     "output_type": "execute_result"
    }
   ],
   "source": [
    "cell_df = pd.read_csv(\"clevBinary.csv\")\n",
    "cell_df.head()"
   ]
  },
  {
   "cell_type": "code",
   "execution_count": 3,
   "id": "38db0cf8",
   "metadata": {},
   "outputs": [
    {
     "data": {
      "text/plain": [
       "array([[ 63. ,   1. ,   1. , 145. , 233. ,   1. ,   2. , 150. ,   0. ,\n",
       "          2.3,   3. ,   0. ,   6. ],\n",
       "       [ 67. ,   1. ,   4. , 160. , 286. ,   0. ,   2. , 108. ,   1. ,\n",
       "          1.5,   2. ,   3. ,   3. ],\n",
       "       [ 67. ,   1. ,   4. , 120. , 229. ,   0. ,   2. , 129. ,   1. ,\n",
       "          2.6,   2. ,   2. ,   7. ],\n",
       "       [ 37. ,   1. ,   3. , 130. , 250. ,   0. ,   0. , 187. ,   0. ,\n",
       "          3.5,   3. ,   0. ,   3. ],\n",
       "       [ 41. ,   0. ,   2. , 130. , 204. ,   0. ,   2. , 172. ,   0. ,\n",
       "          1.4,   1. ,   0. ,   3. ]])"
      ]
     },
     "execution_count": 3,
     "metadata": {},
     "output_type": "execute_result"
    }
   ],
   "source": [
    "feature_df = cell_df[['age','sex','cp','trestbps','chol','fbs','restecg','thalach','exang','oldpeak','slope','ca','thal']]\n",
    "X = np.asarray(feature_df)\n",
    "X[0:5]"
   ]
  },
  {
   "cell_type": "code",
   "execution_count": 4,
   "id": "09f0ae00",
   "metadata": {},
   "outputs": [
    {
     "data": {
      "text/plain": [
       "array([0, 1, 1, 0, 0])"
      ]
     },
     "execution_count": 4,
     "metadata": {},
     "output_type": "execute_result"
    }
   ],
   "source": [
    "cell_df['num'] = cell_df['num'].astype('int')\n",
    "y = np.asarray(cell_df['num'])\n",
    "y [0:5]"
   ]
  },
  {
   "cell_type": "code",
   "execution_count": 5,
   "id": "9d3fdccd",
   "metadata": {},
   "outputs": [
    {
     "data": {
      "image/png": "[encoded data removed]",
      "text/plain": [
       "<Figure size 432x288 with 1 Axes>"
      ]
     },
     "metadata": {
      "needs_background": "light"
     },
     "output_type": "display_data"
    }
   ],
   "source": [
    "# let's plot a histogram to understand the\n",
    "# variable's value range.\n",
    "\n",
    "cell_df['age'].hist(bins=10)\n",
    "plt.title('age')\n",
    "plt.ylabel(\"Number of observations\")\n",
    "plt.show()"
   ]
  },
  {
   "cell_type": "code",
   "execution_count": 6,
   "id": "d9d6d04e",
   "metadata": {},
   "outputs": [],
   "source": [
    "# bin boundaries - we will use with pandas cut()\n",
    "intervals = [18, 36, 55, np.Inf]\n",
    "\n",
    "# bin labels - we will use with pandas cut()\n",
    "labels = [\"18-35\", \"36-55\", \">55\"]"
   ]
  },
  {
   "cell_type": "code",
   "execution_count": 7,
   "id": "4053b608",
   "metadata": {},
   "outputs": [
    {
     "data": {
      "text/html": [
       "<div>\n",
       "<style scoped>\n",
       "    .dataframe tbody tr th:only-of-type {\n",
       "        vertical-align: middle;\n",
       "    }\n",
       "\n",
       "    .dataframe tbody tr th {\n",
       "        vertical-align: top;\n",
       "    }\n",
       "\n",
       "    .dataframe thead th {\n",
       "        text-align: right;\n",
       "    }\n",
       "</style>\n",
       "<table border=\"1\" class=\"dataframe\">\n",
       "  <thead>\n",
       "    <tr style=\"text-align: right;\">\n",
       "      <th></th>\n",
       "      <th>age</th>\n",
       "      <th>age_range</th>\n",
       "      <th>age_limits</th>\n",
       "    </tr>\n",
       "  </thead>\n",
       "  <tbody>\n",
       "    <tr>\n",
       "      <th>0</th>\n",
       "      <td>63</td>\n",
       "      <td>&gt;55</td>\n",
       "      <td>(55.0, inf]</td>\n",
       "    </tr>\n",
       "    <tr>\n",
       "      <th>1</th>\n",
       "      <td>67</td>\n",
       "      <td>&gt;55</td>\n",
       "      <td>(55.0, inf]</td>\n",
       "    </tr>\n",
       "    <tr>\n",
       "      <th>2</th>\n",
       "      <td>67</td>\n",
       "      <td>&gt;55</td>\n",
       "      <td>(55.0, inf]</td>\n",
       "    </tr>\n",
       "    <tr>\n",
       "      <th>3</th>\n",
       "      <td>37</td>\n",
       "      <td>36-55</td>\n",
       "      <td>(36.0, 55.0]</td>\n",
       "    </tr>\n",
       "    <tr>\n",
       "      <th>4</th>\n",
       "      <td>41</td>\n",
       "      <td>36-55</td>\n",
       "      <td>(36.0, 55.0]</td>\n",
       "    </tr>\n",
       "  </tbody>\n",
       "</table>\n",
       "</div>"
      ],
      "text/plain": [
       "   age age_range    age_limits\n",
       "0   63       >55   (55.0, inf]\n",
       "1   67       >55   (55.0, inf]\n",
       "2   67       >55   (55.0, inf]\n",
       "3   37     36-55  (36.0, 55.0]\n",
       "4   41     36-55  (36.0, 55.0]"
      ]
     },
     "execution_count": 7,
     "metadata": {},
     "output_type": "execute_result"
    }
   ],
   "source": [
    "# discretize variable: use labels for the intervals\n",
    "\n",
    "cell_df[\"age_range\"] = pd.cut(\n",
    "    cell_df[\"age\"],\n",
    "    bins=intervals,\n",
    "    labels=labels,\n",
    "    include_lowest=True,\n",
    ")\n",
    "\n",
    "# discretize variable: use interval limits\n",
    "\n",
    "cell_df[\"age_limits\"] = pd.cut(\n",
    "    cell_df[\"age\"], bins=intervals, labels=None, include_lowest=True\n",
    ")\n",
    "\n",
    "\n",
    "# plot the original and 2 versions of the discretized variable\n",
    "\n",
    "cell_df[[\"age\", \"age_range\", \"age_limits\"]].head()"
   ]
  },
  {
   "cell_type": "code",
   "execution_count": 8,
   "id": "4c2cbad2",
   "metadata": {},
   "outputs": [
    {
     "data": {
      "image/png": "[encoded data removed]",
      "text/plain": [
       "<Figure size 432x288 with 1 Axes>"
      ]
     },
     "metadata": {
      "needs_background": "light"
     },
     "output_type": "display_data"
    }
   ],
   "source": [
    "# let's check the number of observations per bin\n",
    "\n",
    "cell_df[\"age_range\"].value_counts().sort_index().plot.bar()\n",
    "plt.xticks(rotation=0)\n",
    "plt.ylabel(\"Number of observations\")\n",
    "plt.title(\"age\")\n",
    "plt.show()"
   ]
  },
  {
   "cell_type": "code",
   "execution_count": 9,
   "id": "3ac3a752",
   "metadata": {},
   "outputs": [
    {
     "data": {
      "text/html": [
       "<div>\n",
       "<style scoped>\n",
       "    .dataframe tbody tr th:only-of-type {\n",
       "        vertical-align: middle;\n",
       "    }\n",
       "\n",
       "    .dataframe tbody tr th {\n",
       "        vertical-align: top;\n",
       "    }\n",
       "\n",
       "    .dataframe thead th {\n",
       "        text-align: right;\n",
       "    }\n",
       "</style>\n",
       "<table border=\"1\" class=\"dataframe\">\n",
       "  <thead>\n",
       "    <tr style=\"text-align: right;\">\n",
       "      <th></th>\n",
       "      <th>age</th>\n",
       "      <th>sex</th>\n",
       "      <th>cp</th>\n",
       "      <th>trestbps</th>\n",
       "      <th>chol</th>\n",
       "      <th>fbs</th>\n",
       "      <th>restecg</th>\n",
       "      <th>thalach</th>\n",
       "      <th>exang</th>\n",
       "      <th>oldpeak</th>\n",
       "      <th>slope</th>\n",
       "      <th>ca</th>\n",
       "      <th>thal</th>\n",
       "      <th>num</th>\n",
       "      <th>age_range</th>\n",
       "      <th>age_limits</th>\n",
       "    </tr>\n",
       "  </thead>\n",
       "  <tbody>\n",
       "    <tr>\n",
       "      <th>0</th>\n",
       "      <td>63</td>\n",
       "      <td>1</td>\n",
       "      <td>1</td>\n",
       "      <td>145</td>\n",
       "      <td>233</td>\n",
       "      <td>1</td>\n",
       "      <td>2</td>\n",
       "      <td>150</td>\n",
       "      <td>0</td>\n",
       "      <td>2.3</td>\n",
       "      <td>3</td>\n",
       "      <td>0</td>\n",
       "      <td>6</td>\n",
       "      <td>0</td>\n",
       "      <td>&gt;55</td>\n",
       "      <td>(55.0, inf]</td>\n",
       "    </tr>\n",
       "    <tr>\n",
       "      <th>1</th>\n",
       "      <td>67</td>\n",
       "      <td>1</td>\n",
       "      <td>4</td>\n",
       "      <td>160</td>\n",
       "      <td>286</td>\n",
       "      <td>0</td>\n",
       "      <td>2</td>\n",
       "      <td>108</td>\n",
       "      <td>1</td>\n",
       "      <td>1.5</td>\n",
       "      <td>2</td>\n",
       "      <td>3</td>\n",
       "      <td>3</td>\n",
       "      <td>1</td>\n",
       "      <td>&gt;55</td>\n",
       "      <td>(55.0, inf]</td>\n",
       "    </tr>\n",
       "    <tr>\n",
       "      <th>2</th>\n",
       "      <td>67</td>\n",
       "      <td>1</td>\n",
       "      <td>4</td>\n",
       "      <td>120</td>\n",
       "      <td>229</td>\n",
       "      <td>0</td>\n",
       "      <td>2</td>\n",
       "      <td>129</td>\n",
       "      <td>1</td>\n",
       "      <td>2.6</td>\n",
       "      <td>2</td>\n",
       "      <td>2</td>\n",
       "      <td>7</td>\n",
       "      <td>1</td>\n",
       "      <td>&gt;55</td>\n",
       "      <td>(55.0, inf]</td>\n",
       "    </tr>\n",
       "    <tr>\n",
       "      <th>3</th>\n",
       "      <td>37</td>\n",
       "      <td>1</td>\n",
       "      <td>3</td>\n",
       "      <td>130</td>\n",
       "      <td>250</td>\n",
       "      <td>0</td>\n",
       "      <td>0</td>\n",
       "      <td>187</td>\n",
       "      <td>0</td>\n",
       "      <td>3.5</td>\n",
       "      <td>3</td>\n",
       "      <td>0</td>\n",
       "      <td>3</td>\n",
       "      <td>0</td>\n",
       "      <td>36-55</td>\n",
       "      <td>(36.0, 55.0]</td>\n",
       "    </tr>\n",
       "    <tr>\n",
       "      <th>4</th>\n",
       "      <td>41</td>\n",
       "      <td>0</td>\n",
       "      <td>2</td>\n",
       "      <td>130</td>\n",
       "      <td>204</td>\n",
       "      <td>0</td>\n",
       "      <td>2</td>\n",
       "      <td>172</td>\n",
       "      <td>0</td>\n",
       "      <td>1.4</td>\n",
       "      <td>1</td>\n",
       "      <td>0</td>\n",
       "      <td>3</td>\n",
       "      <td>0</td>\n",
       "      <td>36-55</td>\n",
       "      <td>(36.0, 55.0]</td>\n",
       "    </tr>\n",
       "  </tbody>\n",
       "</table>\n",
       "</div>"
      ],
      "text/plain": [
       "   age  sex  cp  trestbps  chol  fbs  restecg  thalach  exang  oldpeak  slope  \\\n",
       "0   63    1   1       145   233    1        2      150      0      2.3      3   \n",
       "1   67    1   4       160   286    0        2      108      1      1.5      2   \n",
       "2   67    1   4       120   229    0        2      129      1      2.6      2   \n",
       "3   37    1   3       130   250    0        0      187      0      3.5      3   \n",
       "4   41    0   2       130   204    0        2      172      0      1.4      1   \n",
       "\n",
       "   ca  thal  num age_range    age_limits  \n",
       "0   0     6    0       >55   (55.0, inf]  \n",
       "1   3     3    1       >55   (55.0, inf]  \n",
       "2   2     7    1       >55   (55.0, inf]  \n",
       "3   0     3    0     36-55  (36.0, 55.0]  \n",
       "4   0     3    0     36-55  (36.0, 55.0]  "
      ]
     },
     "execution_count": 9,
     "metadata": {},
     "output_type": "execute_result"
    }
   ],
   "source": [
    "cell_df.head()"
   ]
  },
  {
   "cell_type": "code",
   "execution_count": 10,
   "id": "295a4e03",
   "metadata": {},
   "outputs": [
    {
     "data": {
      "image/png": "[encoded data removed]",
      "text/plain": [
       "<Figure size 432x288 with 1 Axes>"
      ]
     },
     "metadata": {
      "needs_background": "light"
     },
     "output_type": "display_data"
    }
   ],
   "source": [
    "# let's plot a histogram to understand the\n",
    "# variable's value range.\n",
    "\n",
    "cell_df['trestbps'].hist(bins=10)\n",
    "plt.title('trestbps')\n",
    "plt.ylabel(\"Number of observations\")\n",
    "plt.show()"
   ]
  },
  {
   "cell_type": "code",
   "execution_count": 11,
   "id": "72011826",
   "metadata": {},
   "outputs": [],
   "source": [
    "# bin boundaries - we will use with pandas cut()\n",
    "intervals = [90, 100, 120, 139, 159, np.Inf]\n",
    "\n",
    "# bin labels - we will use with pandas cut()\n",
    "labels = [\"90-100\", \"100-120\", \"120-139\", \"140-159\",\"≥160\"]"
   ]
  },
  {
   "cell_type": "code",
   "execution_count": 12,
   "id": "37c99aea",
   "metadata": {},
   "outputs": [
    {
     "data": {
      "text/html": [
       "<div>\n",
       "<style scoped>\n",
       "    .dataframe tbody tr th:only-of-type {\n",
       "        vertical-align: middle;\n",
       "    }\n",
       "\n",
       "    .dataframe tbody tr th {\n",
       "        vertical-align: top;\n",
       "    }\n",
       "\n",
       "    .dataframe thead th {\n",
       "        text-align: right;\n",
       "    }\n",
       "</style>\n",
       "<table border=\"1\" class=\"dataframe\">\n",
       "  <thead>\n",
       "    <tr style=\"text-align: right;\">\n",
       "      <th></th>\n",
       "      <th>trestbps</th>\n",
       "      <th>trestbps_range</th>\n",
       "    </tr>\n",
       "  </thead>\n",
       "  <tbody>\n",
       "    <tr>\n",
       "      <th>0</th>\n",
       "      <td>145</td>\n",
       "      <td>140-159</td>\n",
       "    </tr>\n",
       "    <tr>\n",
       "      <th>1</th>\n",
       "      <td>160</td>\n",
       "      <td>≥160</td>\n",
       "    </tr>\n",
       "    <tr>\n",
       "      <th>2</th>\n",
       "      <td>120</td>\n",
       "      <td>100-120</td>\n",
       "    </tr>\n",
       "    <tr>\n",
       "      <th>3</th>\n",
       "      <td>130</td>\n",
       "      <td>120-139</td>\n",
       "    </tr>\n",
       "    <tr>\n",
       "      <th>4</th>\n",
       "      <td>130</td>\n",
       "      <td>120-139</td>\n",
       "    </tr>\n",
       "  </tbody>\n",
       "</table>\n",
       "</div>"
      ],
      "text/plain": [
       "   trestbps trestbps_range\n",
       "0       145        140-159\n",
       "1       160           ≥160\n",
       "2       120        100-120\n",
       "3       130        120-139\n",
       "4       130        120-139"
      ]
     },
     "execution_count": 12,
     "metadata": {},
     "output_type": "execute_result"
    }
   ],
   "source": [
    "# discretize variable: use labels for the intervals\n",
    "\n",
    "cell_df[\"trestbps_range\"] = pd.cut(\n",
    "    cell_df[\"trestbps\"],\n",
    "    bins=intervals,\n",
    "    labels=labels,\n",
    "    include_lowest=True,\n",
    ")\n",
    "\n",
    "# plot the original and 2 versions of the discretized variable\n",
    "\n",
    "cell_df[[\"trestbps\", \"trestbps_range\"]].head()"
   ]
  },
  {
   "cell_type": "code",
   "execution_count": 13,
   "id": "6b72c13b",
   "metadata": {},
   "outputs": [
    {
     "data": {
      "image/png": "[encoded data removed]",
      "text/plain": [
       "<Figure size 432x288 with 1 Axes>"
      ]
     },
     "metadata": {
      "needs_background": "light"
     },
     "output_type": "display_data"
    }
   ],
   "source": [
    "# let's check the number of observations per bin\n",
    "\n",
    "cell_df[\"trestbps_range\"].value_counts().sort_index().plot.bar()\n",
    "plt.xticks(rotation=0)\n",
    "plt.ylabel(\"Number of observations\")\n",
    "plt.title(\"trestbps\")\n",
    "plt.show()"
   ]
  },
  {
   "cell_type": "code",
   "execution_count": 14,
   "id": "38fe2c19",
   "metadata": {},
   "outputs": [
    {
     "data": {
      "image/png": "[encoded data removed]",
      "text/plain": [
       "<Figure size 432x288 with 1 Axes>"
      ]
     },
     "metadata": {
      "needs_background": "light"
     },
     "output_type": "display_data"
    }
   ],
   "source": [
    "# let's plot a histogram to understand the\n",
    "# variable's value range.\n",
    "\n",
    "cell_df['chol'].hist(bins=20)\n",
    "plt.title('chol')\n",
    "plt.ylabel(\"Number of observations\")\n",
    "plt.show()"
   ]
  },
  {
   "cell_type": "code",
   "execution_count": 15,
   "id": "d5ac3c2a",
   "metadata": {},
   "outputs": [],
   "source": [
    "# bin boundaries - we will use with pandas cut()\n",
    "intervals = [0, 199, 239, np.Inf]\n",
    "\n",
    "# bin labels - we will use with pandas cut()\n",
    "labels = [\"0-199\", \"200-239\",\"≥240\"]"
   ]
  },
  {
   "cell_type": "code",
   "execution_count": 16,
   "id": "90613276",
   "metadata": {},
   "outputs": [
    {
     "data": {
      "text/html": [
       "<div>\n",
       "<style scoped>\n",
       "    .dataframe tbody tr th:only-of-type {\n",
       "        vertical-align: middle;\n",
       "    }\n",
       "\n",
       "    .dataframe tbody tr th {\n",
       "        vertical-align: top;\n",
       "    }\n",
       "\n",
       "    .dataframe thead th {\n",
       "        text-align: right;\n",
       "    }\n",
       "</style>\n",
       "<table border=\"1\" class=\"dataframe\">\n",
       "  <thead>\n",
       "    <tr style=\"text-align: right;\">\n",
       "      <th></th>\n",
       "      <th>chol</th>\n",
       "      <th>chol_range</th>\n",
       "    </tr>\n",
       "  </thead>\n",
       "  <tbody>\n",
       "    <tr>\n",
       "      <th>0</th>\n",
       "      <td>233</td>\n",
       "      <td>200-239</td>\n",
       "    </tr>\n",
       "    <tr>\n",
       "      <th>1</th>\n",
       "      <td>286</td>\n",
       "      <td>≥240</td>\n",
       "    </tr>\n",
       "    <tr>\n",
       "      <th>2</th>\n",
       "      <td>229</td>\n",
       "      <td>200-239</td>\n",
       "    </tr>\n",
       "    <tr>\n",
       "      <th>3</th>\n",
       "      <td>250</td>\n",
       "      <td>≥240</td>\n",
       "    </tr>\n",
       "    <tr>\n",
       "      <th>4</th>\n",
       "      <td>204</td>\n",
       "      <td>200-239</td>\n",
       "    </tr>\n",
       "  </tbody>\n",
       "</table>\n",
       "</div>"
      ],
      "text/plain": [
       "   chol chol_range\n",
       "0   233    200-239\n",
       "1   286       ≥240\n",
       "2   229    200-239\n",
       "3   250       ≥240\n",
       "4   204    200-239"
      ]
     },
     "execution_count": 16,
     "metadata": {},
     "output_type": "execute_result"
    }
   ],
   "source": [
    "# discretize variable: use labels for the intervals\n",
    "\n",
    "cell_df[\"chol_range\"] = pd.cut(\n",
    "    cell_df[\"chol\"],\n",
    "    bins=intervals,\n",
    "    labels=labels,\n",
    "    include_lowest=True,\n",
    ")\n",
    "\n",
    "# plot the original and 2 versions of the discretized variable\n",
    "\n",
    "cell_df[[\"chol\", \"chol_range\"]].head()"
   ]
  },
  {
   "cell_type": "code",
   "execution_count": 17,
   "id": "9441b70f",
   "metadata": {},
   "outputs": [
    {
     "data": {
      "image/png": "[encoded data removed]",
      "text/plain": [
       "<Figure size 432x288 with 1 Axes>"
      ]
     },
     "metadata": {
      "needs_background": "light"
     },
     "output_type": "display_data"
    }
   ],
   "source": [
    "# let's check the number of observations per bin\n",
    "\n",
    "cell_df[\"trestbps_range\"].value_counts().sort_index().plot.bar()\n",
    "plt.xticks(rotation=0)\n",
    "plt.ylabel(\"Number of observations\")\n",
    "plt.title(\"trestbps\")\n",
    "plt.show()"
   ]
  },
  {
   "cell_type": "code",
   "execution_count": 18,
   "id": "5a9b99d7",
   "metadata": {},
   "outputs": [],
   "source": [
    "cell_df[\"ST/HR\"]=cell_df[\"oldpeak\"]/cell_df[\"thalach\"]"
   ]
  },
  {
   "cell_type": "code",
   "execution_count": null,
   "id": "cab347dc",
   "metadata": {},
   "outputs": [],
   "source": []
  },
  {
   "cell_type": "code",
   "execution_count": 19,
   "id": "0fa45914",
   "metadata": {},
   "outputs": [],
   "source": [
    "# bin boundaries - we will use with pandas cut()\n",
    "intervals = [0, 0.01, 0.02, np.Inf]\n",
    "\n",
    "# bin labels - we will use with pandas cut()\n",
    "labels = [\"low\", \"medium\",\"high\"]"
   ]
  },
  {
   "cell_type": "code",
   "execution_count": 20,
   "id": "9818d3fa",
   "metadata": {},
   "outputs": [
    {
     "data": {
      "text/html": [
       "<div>\n",
       "<style scoped>\n",
       "    .dataframe tbody tr th:only-of-type {\n",
       "        vertical-align: middle;\n",
       "    }\n",
       "\n",
       "    .dataframe tbody tr th {\n",
       "        vertical-align: top;\n",
       "    }\n",
       "\n",
       "    .dataframe thead th {\n",
       "        text-align: right;\n",
       "    }\n",
       "</style>\n",
       "<table border=\"1\" class=\"dataframe\">\n",
       "  <thead>\n",
       "    <tr style=\"text-align: right;\">\n",
       "      <th></th>\n",
       "      <th>ST/HR</th>\n",
       "      <th>ST/HR_range</th>\n",
       "    </tr>\n",
       "  </thead>\n",
       "  <tbody>\n",
       "    <tr>\n",
       "      <th>0</th>\n",
       "      <td>0.015333</td>\n",
       "      <td>medium</td>\n",
       "    </tr>\n",
       "    <tr>\n",
       "      <th>1</th>\n",
       "      <td>0.013889</td>\n",
       "      <td>medium</td>\n",
       "    </tr>\n",
       "    <tr>\n",
       "      <th>2</th>\n",
       "      <td>0.020155</td>\n",
       "      <td>high</td>\n",
       "    </tr>\n",
       "    <tr>\n",
       "      <th>3</th>\n",
       "      <td>0.018717</td>\n",
       "      <td>medium</td>\n",
       "    </tr>\n",
       "    <tr>\n",
       "      <th>4</th>\n",
       "      <td>0.008140</td>\n",
       "      <td>low</td>\n",
       "    </tr>\n",
       "  </tbody>\n",
       "</table>\n",
       "</div>"
      ],
      "text/plain": [
       "      ST/HR ST/HR_range\n",
       "0  0.015333      medium\n",
       "1  0.013889      medium\n",
       "2  0.020155        high\n",
       "3  0.018717      medium\n",
       "4  0.008140         low"
      ]
     },
     "execution_count": 20,
     "metadata": {},
     "output_type": "execute_result"
    }
   ],
   "source": [
    "# discretize variable: use labels for the intervals\n",
    "\n",
    "cell_df[\"ST/HR_range\"] = pd.cut(\n",
    "    cell_df[\"ST/HR\"],\n",
    "    bins=intervals,\n",
    "    labels=labels,\n",
    "    include_lowest=True,\n",
    ")\n",
    "\n",
    "# plot the original and 2 versions of the discretized variable\n",
    "\n",
    "cell_df[[\"ST/HR\", \"ST/HR_range\"]].head()"
   ]
  },
  {
   "cell_type": "code",
   "execution_count": 21,
   "id": "56259b24",
   "metadata": {},
   "outputs": [
    {
     "data": {
      "image/png": "[encoded data removed]",
      "text/plain": [
       "<Figure size 432x288 with 1 Axes>"
      ]
     },
     "metadata": {
      "needs_background": "light"
     },
     "output_type": "display_data"
    }
   ],
   "source": [
    "# let's plot a histogram to understand the\n",
    "# variable's value range.\n",
    "\n",
    "cell_df['ca'].hist(bins=20)\n",
    "plt.title('ca')\n",
    "plt.ylabel(\"Number of observations\")\n",
    "plt.show()"
   ]
  },
  {
   "cell_type": "code",
   "execution_count": 22,
   "id": "244a5086",
   "metadata": {},
   "outputs": [
    {
     "data": {
      "text/plain": [
       "ST/HR_range\n",
       "low       0.323529\n",
       "medium    0.683333\n",
       "high      0.909091\n",
       "Name: num, dtype: float64"
      ]
     },
     "execution_count": 22,
     "metadata": {},
     "output_type": "execute_result"
    }
   ],
   "source": [
    "# let's determine the target mean value per\n",
    "# category of ST/HR_range and then sort them in ascending order\n",
    "\n",
    "cell_df['num'].groupby(cell_df['ST/HR_range']).mean().sort_values()"
   ]
  },
  {
   "cell_type": "code",
   "execution_count": 23,
   "id": "684aabd3",
   "metadata": {},
   "outputs": [
    {
     "data": {
      "text/plain": [
       "CategoricalIndex(['low', 'medium', 'high'], categories=['low', 'medium', 'high'], ordered=True, dtype='category', name='ST/HR_range')"
      ]
     },
     "execution_count": 23,
     "metadata": {},
     "output_type": "execute_result"
    }
   ],
   "source": [
    "# let's we generate an ordered list with the labels of ST/HR_range\n",
    "\n",
    "ordered_labels = cell_df['num'].groupby(cell_df['ST/HR_range']).mean().sort_values().index\n",
    "\n",
    "ordered_labels"
   ]
  },
  {
   "cell_type": "code",
   "execution_count": 24,
   "id": "61d010d9",
   "metadata": {},
   "outputs": [
    {
     "data": {
      "text/plain": [
       "{'low': 1, 'medium': 2, 'high': 3}"
      ]
     },
     "execution_count": 24,
     "metadata": {},
     "output_type": "execute_result"
    }
   ],
   "source": [
    "# let's create a dictionary with the mappings of categories to numbers\n",
    "\n",
    "ordinal_mapping = {k: i for i, k in enumerate(ordered_labels, 1)}\n",
    "\n",
    "ordinal_mapping"
   ]
  },
  {
   "cell_type": "code",
   "execution_count": 25,
   "id": "a1fc75a4",
   "metadata": {},
   "outputs": [],
   "source": [
    "# replace the labels with the ordered numbers\n",
    "\n",
    "cell_df['ST/HR_range_enc'] = cell_df['ST/HR_range'].map(ordinal_mapping)\n"
   ]
  },
  {
   "cell_type": "code",
   "execution_count": 26,
   "id": "6faa0cfe",
   "metadata": {},
   "outputs": [
    {
     "data": {
      "text/plain": [
       "0    medium\n",
       "1    medium\n",
       "2      high\n",
       "3    medium\n",
       "4       low\n",
       "Name: ST/HR_range, dtype: category\n",
       "Categories (3, object): ['low' < 'medium' < 'high']"
      ]
     },
     "execution_count": 26,
     "metadata": {},
     "output_type": "execute_result"
    }
   ],
   "source": [
    "# let's inspect the original variable\n",
    "\n",
    "cell_df['ST/HR_range'].head()"
   ]
  },
  {
   "cell_type": "code",
   "execution_count": 27,
   "id": "de4257d8",
   "metadata": {},
   "outputs": [
    {
     "data": {
      "text/plain": [
       "0    2\n",
       "1    2\n",
       "2    3\n",
       "3    2\n",
       "4    1\n",
       "Name: ST/HR_range_enc, dtype: category\n",
       "Categories (3, int64): [1 < 2 < 3]"
      ]
     },
     "execution_count": 27,
     "metadata": {},
     "output_type": "execute_result"
    }
   ],
   "source": [
    "# let's inspect the encoded variable\n",
    "\n",
    "cell_df['ST/HR_range_enc'].head()"
   ]
  },
  {
   "cell_type": "code",
   "execution_count": 28,
   "id": "e03e12df",
   "metadata": {},
   "outputs": [
    {
     "data": {
      "image/png": "[encoded data removed]",
      "text/plain": [
       "<Figure size 432x288 with 1 Axes>"
      ]
     },
     "metadata": {
      "needs_background": "light"
     },
     "output_type": "display_data"
    }
   ],
   "source": [
    "# let's plot the relationship between the target\n",
    "# and the original variable\n",
    "\n",
    "cell_df['num'].groupby(cell_df['ST/HR_range']).mean().plot()\n",
    "plt.title(\"Relationship between ST/HR_range and the target\")\n",
    "plt.ylabel(\"Mean of target\")\n",
    "plt.show()"
   ]
  },
  {
   "cell_type": "code",
   "execution_count": 29,
   "id": "950a1d27",
   "metadata": {},
   "outputs": [
    {
     "data": {
      "image/png": "[encoded data removed]",
      "text/plain": [
       "<Figure size 432x288 with 1 Axes>"
      ]
     },
     "metadata": {
      "needs_background": "light"
     },
     "output_type": "display_data"
    }
   ],
   "source": [
    "# let's explore the monotonic relationship between\n",
    "# the target and the encoded variable\n",
    "\n",
    "cell_df['num'].groupby(cell_df['ST/HR_range_enc']).mean().plot()\n",
    "plt.title(\"Relationship between ST/HR_range_enc after encoding and the target\")\n",
    "plt.ylabel(\"Mean of target\")\n",
    "plt.show()"
   ]
  },
  {
   "cell_type": "code",
   "execution_count": 30,
   "id": "71ecfd25",
   "metadata": {},
   "outputs": [
    {
     "data": {
      "text/html": [
       "<div>\n",
       "<style scoped>\n",
       "    .dataframe tbody tr th:only-of-type {\n",
       "        vertical-align: middle;\n",
       "    }\n",
       "\n",
       "    .dataframe tbody tr th {\n",
       "        vertical-align: top;\n",
       "    }\n",
       "\n",
       "    .dataframe thead th {\n",
       "        text-align: right;\n",
       "    }\n",
       "</style>\n",
       "<table border=\"1\" class=\"dataframe\">\n",
       "  <thead>\n",
       "    <tr style=\"text-align: right;\">\n",
       "      <th></th>\n",
       "      <th>age</th>\n",
       "      <th>sex</th>\n",
       "      <th>cp</th>\n",
       "      <th>trestbps</th>\n",
       "      <th>chol</th>\n",
       "      <th>fbs</th>\n",
       "      <th>restecg</th>\n",
       "      <th>thalach</th>\n",
       "      <th>exang</th>\n",
       "      <th>oldpeak</th>\n",
       "      <th>...</th>\n",
       "      <th>ca</th>\n",
       "      <th>thal</th>\n",
       "      <th>num</th>\n",
       "      <th>age_range</th>\n",
       "      <th>age_limits</th>\n",
       "      <th>trestbps_range</th>\n",
       "      <th>chol_range</th>\n",
       "      <th>ST/HR</th>\n",
       "      <th>ST/HR_range</th>\n",
       "      <th>ST/HR_range_enc</th>\n",
       "    </tr>\n",
       "  </thead>\n",
       "  <tbody>\n",
       "    <tr>\n",
       "      <th>0</th>\n",
       "      <td>63</td>\n",
       "      <td>1</td>\n",
       "      <td>1</td>\n",
       "      <td>145</td>\n",
       "      <td>233</td>\n",
       "      <td>1</td>\n",
       "      <td>2</td>\n",
       "      <td>150</td>\n",
       "      <td>0</td>\n",
       "      <td>2.3</td>\n",
       "      <td>...</td>\n",
       "      <td>0</td>\n",
       "      <td>6</td>\n",
       "      <td>0</td>\n",
       "      <td>&gt;55</td>\n",
       "      <td>(55.0, inf]</td>\n",
       "      <td>140-159</td>\n",
       "      <td>200-239</td>\n",
       "      <td>0.015333</td>\n",
       "      <td>medium</td>\n",
       "      <td>2</td>\n",
       "    </tr>\n",
       "    <tr>\n",
       "      <th>1</th>\n",
       "      <td>67</td>\n",
       "      <td>1</td>\n",
       "      <td>4</td>\n",
       "      <td>160</td>\n",
       "      <td>286</td>\n",
       "      <td>0</td>\n",
       "      <td>2</td>\n",
       "      <td>108</td>\n",
       "      <td>1</td>\n",
       "      <td>1.5</td>\n",
       "      <td>...</td>\n",
       "      <td>3</td>\n",
       "      <td>3</td>\n",
       "      <td>1</td>\n",
       "      <td>&gt;55</td>\n",
       "      <td>(55.0, inf]</td>\n",
       "      <td>≥160</td>\n",
       "      <td>≥240</td>\n",
       "      <td>0.013889</td>\n",
       "      <td>medium</td>\n",
       "      <td>2</td>\n",
       "    </tr>\n",
       "    <tr>\n",
       "      <th>2</th>\n",
       "      <td>67</td>\n",
       "      <td>1</td>\n",
       "      <td>4</td>\n",
       "      <td>120</td>\n",
       "      <td>229</td>\n",
       "      <td>0</td>\n",
       "      <td>2</td>\n",
       "      <td>129</td>\n",
       "      <td>1</td>\n",
       "      <td>2.6</td>\n",
       "      <td>...</td>\n",
       "      <td>2</td>\n",
       "      <td>7</td>\n",
       "      <td>1</td>\n",
       "      <td>&gt;55</td>\n",
       "      <td>(55.0, inf]</td>\n",
       "      <td>100-120</td>\n",
       "      <td>200-239</td>\n",
       "      <td>0.020155</td>\n",
       "      <td>high</td>\n",
       "      <td>3</td>\n",
       "    </tr>\n",
       "    <tr>\n",
       "      <th>3</th>\n",
       "      <td>37</td>\n",
       "      <td>1</td>\n",
       "      <td>3</td>\n",
       "      <td>130</td>\n",
       "      <td>250</td>\n",
       "      <td>0</td>\n",
       "      <td>0</td>\n",
       "      <td>187</td>\n",
       "      <td>0</td>\n",
       "      <td>3.5</td>\n",
       "      <td>...</td>\n",
       "      <td>0</td>\n",
       "      <td>3</td>\n",
       "      <td>0</td>\n",
       "      <td>36-55</td>\n",
       "      <td>(36.0, 55.0]</td>\n",
       "      <td>120-139</td>\n",
       "      <td>≥240</td>\n",
       "      <td>0.018717</td>\n",
       "      <td>medium</td>\n",
       "      <td>2</td>\n",
       "    </tr>\n",
       "    <tr>\n",
       "      <th>4</th>\n",
       "      <td>41</td>\n",
       "      <td>0</td>\n",
       "      <td>2</td>\n",
       "      <td>130</td>\n",
       "      <td>204</td>\n",
       "      <td>0</td>\n",
       "      <td>2</td>\n",
       "      <td>172</td>\n",
       "      <td>0</td>\n",
       "      <td>1.4</td>\n",
       "      <td>...</td>\n",
       "      <td>0</td>\n",
       "      <td>3</td>\n",
       "      <td>0</td>\n",
       "      <td>36-55</td>\n",
       "      <td>(36.0, 55.0]</td>\n",
       "      <td>120-139</td>\n",
       "      <td>200-239</td>\n",
       "      <td>0.008140</td>\n",
       "      <td>low</td>\n",
       "      <td>1</td>\n",
       "    </tr>\n",
       "  </tbody>\n",
       "</table>\n",
       "<p>5 rows × 21 columns</p>\n",
       "</div>"
      ],
      "text/plain": [
       "   age  sex  cp  trestbps  chol  fbs  restecg  thalach  exang  oldpeak  ...  \\\n",
       "0   63    1   1       145   233    1        2      150      0      2.3  ...   \n",
       "1   67    1   4       160   286    0        2      108      1      1.5  ...   \n",
       "2   67    1   4       120   229    0        2      129      1      2.6  ...   \n",
       "3   37    1   3       130   250    0        0      187      0      3.5  ...   \n",
       "4   41    0   2       130   204    0        2      172      0      1.4  ...   \n",
       "\n",
       "   ca  thal  num  age_range    age_limits trestbps_range chol_range     ST/HR  \\\n",
       "0   0     6    0        >55   (55.0, inf]        140-159    200-239  0.015333   \n",
       "1   3     3    1        >55   (55.0, inf]           ≥160       ≥240  0.013889   \n",
       "2   2     7    1        >55   (55.0, inf]        100-120    200-239  0.020155   \n",
       "3   0     3    0      36-55  (36.0, 55.0]        120-139       ≥240  0.018717   \n",
       "4   0     3    0      36-55  (36.0, 55.0]        120-139    200-239  0.008140   \n",
       "\n",
       "   ST/HR_range ST/HR_range_enc  \n",
       "0       medium               2  \n",
       "1       medium               2  \n",
       "2         high               3  \n",
       "3       medium               2  \n",
       "4          low               1  \n",
       "\n",
       "[5 rows x 21 columns]"
      ]
     },
     "execution_count": 30,
     "metadata": {},
     "output_type": "execute_result"
    }
   ],
   "source": [
    "cell_df.head()"
   ]
  },
  {
   "cell_type": "code",
   "execution_count": 31,
   "id": "c884b899",
   "metadata": {},
   "outputs": [
    {
     "data": {
      "text/plain": [
       "CategoricalIndex(['18-35', '36-55', '>55'], categories=['18-35', '36-55', '>55'], ordered=True, dtype='category', name='age_range')"
      ]
     },
     "execution_count": 31,
     "metadata": {},
     "output_type": "execute_result"
    }
   ],
   "source": [
    "# let's we generate an ordered list with the labels of age_range\n",
    "\n",
    "ordered_labels = cell_df['num'].groupby(cell_df['age_range']).mean().sort_values().index\n",
    "\n",
    "ordered_labels"
   ]
  },
  {
   "cell_type": "code",
   "execution_count": 32,
   "id": "a2d6528e",
   "metadata": {},
   "outputs": [
    {
     "data": {
      "text/plain": [
       "{'18-35': 1, '36-55': 2, '>55': 3}"
      ]
     },
     "execution_count": 32,
     "metadata": {},
     "output_type": "execute_result"
    }
   ],
   "source": [
    "# let's create a dictionary with the mappings of categories to numbers\n",
    "\n",
    "ordinal_mapping = {k: i for i, k in enumerate(ordered_labels, 1)}\n",
    "\n",
    "ordinal_mapping"
   ]
  },
  {
   "cell_type": "code",
   "execution_count": 33,
   "id": "623a29bd",
   "metadata": {},
   "outputs": [],
   "source": [
    "# replace the labels with the ordered numbers\n",
    "\n",
    "cell_df['age_range_enc'] = cell_df['age_range'].map(ordinal_mapping)\n"
   ]
  },
  {
   "cell_type": "code",
   "execution_count": 34,
   "id": "09907f01",
   "metadata": {},
   "outputs": [
    {
     "data": {
      "image/png": "[encoded data removed]",
      "text/plain": [
       "<Figure size 432x288 with 1 Axes>"
      ]
     },
     "metadata": {
      "needs_background": "light"
     },
     "output_type": "display_data"
    }
   ],
   "source": [
    "# let's plot the relationship between the target\n",
    "# and the original variable\n",
    "\n",
    "cell_df['num'].groupby(cell_df['age_range']).mean().plot()\n",
    "plt.title(\"Relationship between age_range and the target\")\n",
    "plt.ylabel(\"Mean of target\")\n",
    "plt.show()"
   ]
  },
  {
   "cell_type": "code",
   "execution_count": 35,
   "id": "54b2b369",
   "metadata": {},
   "outputs": [
    {
     "data": {
      "image/png": "[encoded data removed]",
      "text/plain": [
       "<Figure size 432x288 with 1 Axes>"
      ]
     },
     "metadata": {
      "needs_background": "light"
     },
     "output_type": "display_data"
    }
   ],
   "source": [
    "# let's explore the monotonic relationship between\n",
    "# the target and the encoded variable\n",
    "\n",
    "cell_df['num'].groupby(cell_df['age_range_enc']).mean().plot()\n",
    "plt.title(\"Relationship between age_range_enc after encoding and the target\")\n",
    "plt.ylabel(\"Mean of target\")\n",
    "plt.show()"
   ]
  },
  {
   "cell_type": "code",
   "execution_count": 36,
   "id": "5395bf1a",
   "metadata": {},
   "outputs": [
    {
     "data": {
      "text/plain": [
       "CategoricalIndex(['90-100', '100-120', '120-139', '140-159', '≥160'], categories=['90-100', '100-120', '120-139', '140-159', '≥160'], ordered=True, dtype='category', name='trestbps_range')"
      ]
     },
     "execution_count": 36,
     "metadata": {},
     "output_type": "execute_result"
    }
   ],
   "source": [
    "# let's we generate an ordered list with the labels of trestbps_range\n",
    "\n",
    "ordered_labels = cell_df['num'].groupby(cell_df['trestbps_range']).mean().sort_values().index\n",
    "\n",
    "ordered_labels"
   ]
  },
  {
   "cell_type": "code",
   "execution_count": 37,
   "id": "db05b50c",
   "metadata": {},
   "outputs": [
    {
     "data": {
      "text/plain": [
       "{'90-100': 1, '100-120': 2, '120-139': 3, '140-159': 4, '≥160': 5}"
      ]
     },
     "execution_count": 37,
     "metadata": {},
     "output_type": "execute_result"
    }
   ],
   "source": [
    "# let's create a dictionary with the mappings of categories to numbers\n",
    "\n",
    "ordinal_mapping = {k: i for i, k in enumerate(ordered_labels, 1)}\n",
    "\n",
    "ordinal_mapping"
   ]
  },
  {
   "cell_type": "code",
   "execution_count": 38,
   "id": "662a1378",
   "metadata": {},
   "outputs": [],
   "source": [
    "# replace the labels with the ordered numbers\n",
    "\n",
    "cell_df['trestbps_range_enc'] = cell_df['trestbps_range'].map(ordinal_mapping)"
   ]
  },
  {
   "cell_type": "code",
   "execution_count": 39,
   "id": "edf2b126",
   "metadata": {},
   "outputs": [
    {
     "data": {
      "image/png": "[encoded data removed]",
      "text/plain": [
       "<Figure size 432x288 with 1 Axes>"
      ]
     },
     "metadata": {
      "needs_background": "light"
     },
     "output_type": "display_data"
    }
   ],
   "source": [
    "# let's plot the relationship between the target\n",
    "# and the original variable\n",
    "\n",
    "cell_df['num'].groupby(cell_df['trestbps_range']).mean().plot()\n",
    "plt.title(\"Relationship between trestbps_range and the target\")\n",
    "plt.ylabel(\"Mean of target\")\n",
    "plt.show()"
   ]
  },
  {
   "cell_type": "code",
   "execution_count": 40,
   "id": "a5960dc0",
   "metadata": {},
   "outputs": [
    {
     "data": {
      "image/png": "[encoded data removed]",
      "text/plain": [
       "<Figure size 432x288 with 1 Axes>"
      ]
     },
     "metadata": {
      "needs_background": "light"
     },
     "output_type": "display_data"
    }
   ],
   "source": [
    "# let's explore the monotonic relationship between\n",
    "# the target and the encoded variable\n",
    "\n",
    "cell_df['num'].groupby(cell_df['trestbps_range_enc']).mean().plot()\n",
    "plt.title(\"Relationship between trestbps_range_enc after encoding and the target\")\n",
    "plt.ylabel(\"Mean of target\")\n",
    "plt.show()"
   ]
  },
  {
   "cell_type": "code",
   "execution_count": 41,
   "id": "1dd974a3",
   "metadata": {},
   "outputs": [
    {
     "data": {
      "text/plain": [
       "CategoricalIndex(['200-239', '0-199', '≥240'], categories=['0-199', '200-239', '≥240'], ordered=True, dtype='category', name='chol_range')"
      ]
     },
     "execution_count": 41,
     "metadata": {},
     "output_type": "execute_result"
    }
   ],
   "source": [
    "# let's we generate an ordered list with the labels of chol_range\n",
    "\n",
    "ordered_labels = cell_df['num'].groupby(cell_df['chol_range']).mean().sort_values().index \n",
    "\n",
    "ordered_labels"
   ]
  },
  {
   "cell_type": "code",
   "execution_count": 42,
   "id": "27b0bf82",
   "metadata": {},
   "outputs": [
    {
     "data": {
      "text/plain": [
       "{'200-239': 2, '0-199': 1, '≥240': 3}"
      ]
     },
     "execution_count": 42,
     "metadata": {},
     "output_type": "execute_result"
    }
   ],
   "source": [
    "# let's create a dictionary with the mappings of categories to numbers\n",
    "\n",
    "ordinal_mapping = {'200-239': 2, '0-199': 1, '≥240': 3}\n",
    "\n",
    "ordinal_mapping"
   ]
  },
  {
   "cell_type": "code",
   "execution_count": 43,
   "id": "44783e71",
   "metadata": {},
   "outputs": [],
   "source": [
    "# replace the labels with the ordered numbers\n",
    "\n",
    "\n",
    "cell_df['chol_range_enc'] = cell_df['chol_range'].map(ordinal_mapping)"
   ]
  },
  {
   "cell_type": "code",
   "execution_count": 44,
   "id": "211fe878",
   "metadata": {},
   "outputs": [
    {
     "data": {
      "image/png": "[encoded data removed]",
      "text/plain": [
       "<Figure size 432x288 with 1 Axes>"
      ]
     },
     "metadata": {
      "needs_background": "light"
     },
     "output_type": "display_data"
    }
   ],
   "source": [
    "# let's plot the relationship between the target\n",
    "# and the original variable\n",
    "\n",
    "cell_df['num'].groupby(cell_df['chol_range']).mean().plot()\n",
    "plt.title(\"Relationship between chol_range and the target\")\n",
    "plt.ylabel(\"Mean of target\")\n",
    "plt.show()"
   ]
  },
  {
   "cell_type": "code",
   "execution_count": 45,
   "id": "75aef898",
   "metadata": {},
   "outputs": [
    {
     "data": {
      "image/png": "[encoded data removed]",
      "text/plain": [
       "<Figure size 432x288 with 1 Axes>"
      ]
     },
     "metadata": {
      "needs_background": "light"
     },
     "output_type": "display_data"
    }
   ],
   "source": [
    "# let's explore the monotonic relationship between\n",
    "# the target and the encoded variable\n",
    "\n",
    "cell_df['num'].groupby(cell_df['chol_range_enc']).mean().plot()\n",
    "plt.title(\"Relationship between chol_range_enc and the target\")\n",
    "plt.ylabel(\"Mean of target\")\n",
    "plt.show()"
   ]
  },
  {
   "cell_type": "code",
   "execution_count": 46,
   "id": "87cea2e2",
   "metadata": {},
   "outputs": [
    {
     "data": {
      "text/html": [
       "<div>\n",
       "<style scoped>\n",
       "    .dataframe tbody tr th:only-of-type {\n",
       "        vertical-align: middle;\n",
       "    }\n",
       "\n",
       "    .dataframe tbody tr th {\n",
       "        vertical-align: top;\n",
       "    }\n",
       "\n",
       "    .dataframe thead th {\n",
       "        text-align: right;\n",
       "    }\n",
       "</style>\n",
       "<table border=\"1\" class=\"dataframe\">\n",
       "  <thead>\n",
       "    <tr style=\"text-align: right;\">\n",
       "      <th></th>\n",
       "      <th>age</th>\n",
       "      <th>sex</th>\n",
       "      <th>cp</th>\n",
       "      <th>trestbps</th>\n",
       "      <th>chol</th>\n",
       "      <th>fbs</th>\n",
       "      <th>restecg</th>\n",
       "      <th>thalach</th>\n",
       "      <th>exang</th>\n",
       "      <th>oldpeak</th>\n",
       "      <th>...</th>\n",
       "      <th>age_range</th>\n",
       "      <th>age_limits</th>\n",
       "      <th>trestbps_range</th>\n",
       "      <th>chol_range</th>\n",
       "      <th>ST/HR</th>\n",
       "      <th>ST/HR_range</th>\n",
       "      <th>ST/HR_range_enc</th>\n",
       "      <th>age_range_enc</th>\n",
       "      <th>trestbps_range_enc</th>\n",
       "      <th>chol_range_enc</th>\n",
       "    </tr>\n",
       "  </thead>\n",
       "  <tbody>\n",
       "    <tr>\n",
       "      <th>0</th>\n",
       "      <td>63</td>\n",
       "      <td>1</td>\n",
       "      <td>1</td>\n",
       "      <td>145</td>\n",
       "      <td>233</td>\n",
       "      <td>1</td>\n",
       "      <td>2</td>\n",
       "      <td>150</td>\n",
       "      <td>0</td>\n",
       "      <td>2.3</td>\n",
       "      <td>...</td>\n",
       "      <td>&gt;55</td>\n",
       "      <td>(55.0, inf]</td>\n",
       "      <td>140-159</td>\n",
       "      <td>200-239</td>\n",
       "      <td>0.015333</td>\n",
       "      <td>medium</td>\n",
       "      <td>2</td>\n",
       "      <td>3</td>\n",
       "      <td>4</td>\n",
       "      <td>2</td>\n",
       "    </tr>\n",
       "    <tr>\n",
       "      <th>1</th>\n",
       "      <td>67</td>\n",
       "      <td>1</td>\n",
       "      <td>4</td>\n",
       "      <td>160</td>\n",
       "      <td>286</td>\n",
       "      <td>0</td>\n",
       "      <td>2</td>\n",
       "      <td>108</td>\n",
       "      <td>1</td>\n",
       "      <td>1.5</td>\n",
       "      <td>...</td>\n",
       "      <td>&gt;55</td>\n",
       "      <td>(55.0, inf]</td>\n",
       "      <td>≥160</td>\n",
       "      <td>≥240</td>\n",
       "      <td>0.013889</td>\n",
       "      <td>medium</td>\n",
       "      <td>2</td>\n",
       "      <td>3</td>\n",
       "      <td>5</td>\n",
       "      <td>3</td>\n",
       "    </tr>\n",
       "    <tr>\n",
       "      <th>2</th>\n",
       "      <td>67</td>\n",
       "      <td>1</td>\n",
       "      <td>4</td>\n",
       "      <td>120</td>\n",
       "      <td>229</td>\n",
       "      <td>0</td>\n",
       "      <td>2</td>\n",
       "      <td>129</td>\n",
       "      <td>1</td>\n",
       "      <td>2.6</td>\n",
       "      <td>...</td>\n",
       "      <td>&gt;55</td>\n",
       "      <td>(55.0, inf]</td>\n",
       "      <td>100-120</td>\n",
       "      <td>200-239</td>\n",
       "      <td>0.020155</td>\n",
       "      <td>high</td>\n",
       "      <td>3</td>\n",
       "      <td>3</td>\n",
       "      <td>2</td>\n",
       "      <td>2</td>\n",
       "    </tr>\n",
       "    <tr>\n",
       "      <th>3</th>\n",
       "      <td>37</td>\n",
       "      <td>1</td>\n",
       "      <td>3</td>\n",
       "      <td>130</td>\n",
       "      <td>250</td>\n",
       "      <td>0</td>\n",
       "      <td>0</td>\n",
       "      <td>187</td>\n",
       "      <td>0</td>\n",
       "      <td>3.5</td>\n",
       "      <td>...</td>\n",
       "      <td>36-55</td>\n",
       "      <td>(36.0, 55.0]</td>\n",
       "      <td>120-139</td>\n",
       "      <td>≥240</td>\n",
       "      <td>0.018717</td>\n",
       "      <td>medium</td>\n",
       "      <td>2</td>\n",
       "      <td>2</td>\n",
       "      <td>3</td>\n",
       "      <td>3</td>\n",
       "    </tr>\n",
       "    <tr>\n",
       "      <th>4</th>\n",
       "      <td>41</td>\n",
       "      <td>0</td>\n",
       "      <td>2</td>\n",
       "      <td>130</td>\n",
       "      <td>204</td>\n",
       "      <td>0</td>\n",
       "      <td>2</td>\n",
       "      <td>172</td>\n",
       "      <td>0</td>\n",
       "      <td>1.4</td>\n",
       "      <td>...</td>\n",
       "      <td>36-55</td>\n",
       "      <td>(36.0, 55.0]</td>\n",
       "      <td>120-139</td>\n",
       "      <td>200-239</td>\n",
       "      <td>0.008140</td>\n",
       "      <td>low</td>\n",
       "      <td>1</td>\n",
       "      <td>2</td>\n",
       "      <td>3</td>\n",
       "      <td>2</td>\n",
       "    </tr>\n",
       "  </tbody>\n",
       "</table>\n",
       "<p>5 rows × 24 columns</p>\n",
       "</div>"
      ],
      "text/plain": [
       "   age  sex  cp  trestbps  chol  fbs  restecg  thalach  exang  oldpeak  ...  \\\n",
       "0   63    1   1       145   233    1        2      150      0      2.3  ...   \n",
       "1   67    1   4       160   286    0        2      108      1      1.5  ...   \n",
       "2   67    1   4       120   229    0        2      129      1      2.6  ...   \n",
       "3   37    1   3       130   250    0        0      187      0      3.5  ...   \n",
       "4   41    0   2       130   204    0        2      172      0      1.4  ...   \n",
       "\n",
       "   age_range    age_limits  trestbps_range  chol_range     ST/HR ST/HR_range  \\\n",
       "0        >55   (55.0, inf]         140-159     200-239  0.015333      medium   \n",
       "1        >55   (55.0, inf]            ≥160        ≥240  0.013889      medium   \n",
       "2        >55   (55.0, inf]         100-120     200-239  0.020155        high   \n",
       "3      36-55  (36.0, 55.0]         120-139        ≥240  0.018717      medium   \n",
       "4      36-55  (36.0, 55.0]         120-139     200-239  0.008140         low   \n",
       "\n",
       "  ST/HR_range_enc age_range_enc  trestbps_range_enc chol_range_enc  \n",
       "0               2             3                   4              2  \n",
       "1               2             3                   5              3  \n",
       "2               3             3                   2              2  \n",
       "3               2             2                   3              3  \n",
       "4               1             2                   3              2  \n",
       "\n",
       "[5 rows x 24 columns]"
      ]
     },
     "execution_count": 46,
     "metadata": {},
     "output_type": "execute_result"
    }
   ],
   "source": [
    "cell_df.head()"
   ]
  },
  {
   "cell_type": "code",
   "execution_count": 47,
   "id": "e8d8ce83",
   "metadata": {},
   "outputs": [
    {
     "data": {
      "text/plain": [
       "array([[3, 1, 1, 4, 2, 1, 2, 2, 0, 3, 0, 6],\n",
       "       [3, 1, 4, 5, 3, 0, 2, 2, 1, 2, 3, 3],\n",
       "       [3, 1, 4, 2, 2, 0, 2, 3, 1, 2, 2, 7],\n",
       "       [2, 1, 3, 3, 3, 0, 0, 2, 0, 3, 0, 3],\n",
       "       [2, 0, 2, 3, 2, 0, 2, 1, 0, 1, 0, 3]], dtype=int64)"
      ]
     },
     "execution_count": 47,
     "metadata": {},
     "output_type": "execute_result"
    }
   ],
   "source": [
    "feature_df = cell_df[['age_range_enc','sex','cp','trestbps_range_enc','chol_range_enc','fbs','restecg','ST/HR_range_enc','exang','slope','ca','thal']]\n",
    "X = np.asarray(feature_df)\n",
    "X[0:5]"
   ]
  },
  {
   "cell_type": "code",
   "execution_count": 48,
   "id": "5a452070",
   "metadata": {},
   "outputs": [
    {
     "data": {
      "text/plain": [
       "array([0, 1, 1, 0, 0])"
      ]
     },
     "execution_count": 48,
     "metadata": {},
     "output_type": "execute_result"
    }
   ],
   "source": [
    "cell_df['num'] = cell_df['num'].astype('int')\n",
    "y = np.asarray(cell_df['num'])\n",
    "y [0:5]"
   ]
  },
  {
   "cell_type": "code",
   "execution_count": null,
   "id": "0def0318",
   "metadata": {},
   "outputs": [],
   "source": []
  },
  {
   "cell_type": "markdown",
   "id": "54e8ca37",
   "metadata": {},
   "source": [
    "# Now Let's Go"
   ]
  },
  {
   "cell_type": "code",
   "execution_count": 83,
   "id": "48592872",
   "metadata": {},
   "outputs": [
    {
     "name": "stdout",
     "output_type": "stream",
     "text": [
      "[0.87 0.93 0.93 0.6  0.73 0.8  0.6  0.93 0.93 0.87 0.87 0.67 1.   0.8\n",
      " 0.93 0.87 1.   0.93 0.79 0.93]\n",
      "Accuracy: 0.849 (0.117)\n"
     ]
    }
   ],
   "source": [
    "from sklearn.model_selection import cross_val_score\n",
    "from numpy import mean\n",
    "from numpy import std\n",
    "from sklearn.model_selection import KFold\n",
    "from sklearn.model_selection import cross_val_score\n",
    "from sklearn.linear_model import LogisticRegression\n",
    "# prepare the cross-validation procedure\n",
    "cv = KFold(n_splits=20, random_state=1, shuffle=True)\n",
    "# create model\n",
    "clf = LogisticRegression(C=1, solver='saga')\n",
    "# evaluate model\n",
    "scores = cross_val_score(clf, X, y, scoring='accuracy', cv=cv, n_jobs=-1)\n",
    "# report performance\n",
    "print(scores)\n",
    "print('Accuracy: %.3f (%.3f)' % (mean(scores), std(scores)))"
   ]
  },
  {
   "cell_type": "code",
   "execution_count": 84,
   "id": "ffce6766",
   "metadata": {},
   "outputs": [],
   "source": [
    "import matplotlib.pyplot as plt\n",
    "\n",
    "\n",
    "from sklearn.metrics import auc\n",
    "from sklearn.metrics import RocCurveDisplay\n",
    "from sklearn.metrics import classification_report, confusion_matrix\n",
    "import itertools"
   ]
  },
  {
   "cell_type": "code",
   "execution_count": 85,
   "id": "db6303a8",
   "metadata": {},
   "outputs": [
    {
     "name": "stderr",
     "output_type": "stream",
     "text": [
      "C:\\Users\\ECS\\anaconda3\\lib\\site-packages\\sklearn\\linear_model\\_sag.py:352: ConvergenceWarning: The max_iter was reached which means the coef_ did not converge\n",
      "  warnings.warn(\n",
      "C:\\Users\\ECS\\anaconda3\\lib\\site-packages\\sklearn\\linear_model\\_sag.py:352: ConvergenceWarning: The max_iter was reached which means the coef_ did not converge\n",
      "  warnings.warn(\n",
      "C:\\Users\\ECS\\anaconda3\\lib\\site-packages\\sklearn\\linear_model\\_sag.py:352: ConvergenceWarning: The max_iter was reached which means the coef_ did not converge\n",
      "  warnings.warn(\n",
      "C:\\Users\\ECS\\anaconda3\\lib\\site-packages\\sklearn\\linear_model\\_sag.py:352: ConvergenceWarning: The max_iter was reached which means the coef_ did not converge\n",
      "  warnings.warn(\n",
      "C:\\Users\\ECS\\anaconda3\\lib\\site-packages\\sklearn\\linear_model\\_sag.py:352: ConvergenceWarning: The max_iter was reached which means the coef_ did not converge\n",
      "  warnings.warn(\n",
      "C:\\Users\\ECS\\anaconda3\\lib\\site-packages\\sklearn\\linear_model\\_sag.py:352: ConvergenceWarning: The max_iter was reached which means the coef_ did not converge\n",
      "  warnings.warn(\n",
      "C:\\Users\\ECS\\anaconda3\\lib\\site-packages\\sklearn\\linear_model\\_sag.py:352: ConvergenceWarning: The max_iter was reached which means the coef_ did not converge\n",
      "  warnings.warn(\n",
      "C:\\Users\\ECS\\anaconda3\\lib\\site-packages\\sklearn\\linear_model\\_sag.py:352: ConvergenceWarning: The max_iter was reached which means the coef_ did not converge\n",
      "  warnings.warn(\n",
      "C:\\Users\\ECS\\anaconda3\\lib\\site-packages\\sklearn\\linear_model\\_sag.py:352: ConvergenceWarning: The max_iter was reached which means the coef_ did not converge\n",
      "  warnings.warn(\n",
      "C:\\Users\\ECS\\anaconda3\\lib\\site-packages\\sklearn\\linear_model\\_sag.py:352: ConvergenceWarning: The max_iter was reached which means the coef_ did not converge\n",
      "  warnings.warn(\n",
      "C:\\Users\\ECS\\anaconda3\\lib\\site-packages\\sklearn\\linear_model\\_sag.py:352: ConvergenceWarning: The max_iter was reached which means the coef_ did not converge\n",
      "  warnings.warn(\n",
      "C:\\Users\\ECS\\anaconda3\\lib\\site-packages\\sklearn\\linear_model\\_sag.py:352: ConvergenceWarning: The max_iter was reached which means the coef_ did not converge\n",
      "  warnings.warn(\n",
      "C:\\Users\\ECS\\anaconda3\\lib\\site-packages\\sklearn\\linear_model\\_sag.py:352: ConvergenceWarning: The max_iter was reached which means the coef_ did not converge\n",
      "  warnings.warn(\n",
      "C:\\Users\\ECS\\anaconda3\\lib\\site-packages\\sklearn\\linear_model\\_sag.py:352: ConvergenceWarning: The max_iter was reached which means the coef_ did not converge\n",
      "  warnings.warn(\n",
      "C:\\Users\\ECS\\anaconda3\\lib\\site-packages\\sklearn\\linear_model\\_sag.py:352: ConvergenceWarning: The max_iter was reached which means the coef_ did not converge\n",
      "  warnings.warn(\n",
      "C:\\Users\\ECS\\anaconda3\\lib\\site-packages\\sklearn\\linear_model\\_sag.py:352: ConvergenceWarning: The max_iter was reached which means the coef_ did not converge\n",
      "  warnings.warn(\n",
      "C:\\Users\\ECS\\anaconda3\\lib\\site-packages\\sklearn\\linear_model\\_sag.py:352: ConvergenceWarning: The max_iter was reached which means the coef_ did not converge\n",
      "  warnings.warn(\n",
      "C:\\Users\\ECS\\anaconda3\\lib\\site-packages\\sklearn\\linear_model\\_sag.py:352: ConvergenceWarning: The max_iter was reached which means the coef_ did not converge\n",
      "  warnings.warn(\n",
      "C:\\Users\\ECS\\anaconda3\\lib\\site-packages\\sklearn\\linear_model\\_sag.py:352: ConvergenceWarning: The max_iter was reached which means the coef_ did not converge\n",
      "  warnings.warn(\n",
      "C:\\Users\\ECS\\anaconda3\\lib\\site-packages\\sklearn\\linear_model\\_sag.py:352: ConvergenceWarning: The max_iter was reached which means the coef_ did not converge\n",
      "  warnings.warn(\n"
     ]
    },
    {
     "data": {
      "image/png": "[encoded data removed]",
      "text/plain": [
       "<Figure size 432x288 with 1 Axes>"
      ]
     },
     "metadata": {
      "needs_background": "light"
     },
     "output_type": "display_data"
    }
   ],
   "source": [
    "\n",
    "# Run classifier with cross-validation and plot ROC curves\n",
    "cv = KFold(n_splits=20, random_state=1, shuffle=True)\n",
    "classifier = clf\n",
    "tprs = []\n",
    "aucs = []\n",
    "mean_fpr = np.linspace(0, 1, 100)\n",
    "\n",
    "fig, ax = plt.subplots()\n",
    "for i, (train, test) in enumerate(cv.split(X, y)):\n",
    "    classifier.fit(X[train], y[train])\n",
    "    viz = RocCurveDisplay.from_estimator(\n",
    "        classifier,\n",
    "        X[test],\n",
    "        y[test],\n",
    "        name=\"ROC fold {}\".format(i),\n",
    "        alpha=0.3,\n",
    "        lw=1,\n",
    "        ax=ax,\n",
    "    )\n",
    "    interp_tpr = np.interp(mean_fpr, viz.fpr, viz.tpr)\n",
    "    interp_tpr[0] = 0.0\n",
    "    tprs.append(interp_tpr)\n",
    "    aucs.append(viz.roc_auc)\n",
    "\n",
    "ax.plot([0, 1], [0, 1], linestyle=\"--\", lw=2, color=\"r\", label=\"Chance\", alpha=0.8)\n",
    "\n",
    "mean_tpr = np.mean(tprs, axis=0)\n",
    "mean_tpr[-1] = 1.0\n",
    "mean_auc = auc(mean_fpr, mean_tpr)\n",
    "std_auc = np.std(aucs)\n",
    "ax.plot(\n",
    "    mean_fpr,\n",
    "    mean_tpr,\n",
    "    color=\"b\",\n",
    "    label=r\"Mean ROC (AUC = %0.2f $\\pm$ %0.2f)\" % (mean_auc, std_auc),\n",
    "    lw=2,\n",
    "    alpha=0.8,\n",
    ")\n",
    "\n",
    "std_tpr = np.std(tprs, axis=0)\n",
    "tprs_upper = np.minimum(mean_tpr + std_tpr, 1)\n",
    "tprs_lower = np.maximum(mean_tpr - std_tpr, 0)\n",
    "ax.fill_between(\n",
    "    mean_fpr,\n",
    "    tprs_lower,\n",
    "    tprs_upper,\n",
    "    color=\"grey\",\n",
    "    alpha=0.2,\n",
    "    label=r\"$\\pm$ 1 std. dev.\",\n",
    ")\n",
    "\n",
    "ax.set(\n",
    "    xlim=[-0.05, 1.05],\n",
    "    ylim=[-0.05, 1.05],\n",
    "    title=\"Receiver operating characteristic example\",\n",
    ")\n",
    "ax.legend(loc=\"lower right\")\n",
    "plt.show()"
   ]
  },
  {
   "cell_type": "code",
   "execution_count": 86,
   "id": "1f04fd0d",
   "metadata": {},
   "outputs": [
    {
     "name": "stdout",
     "output_type": "stream",
     "text": [
      "[[3 1 1 ... 3 0 6]\n",
      " [3 1 4 ... 2 3 3]\n",
      " [3 1 4 ... 2 2 7]\n",
      " ...\n",
      " [3 1 4 ... 2 2 7]\n",
      " [3 1 4 ... 2 1 7]\n",
      " [3 0 2 ... 2 1 3]]\n"
     ]
    }
   ],
   "source": [
    "import matplotlib.pyplot as plot\n",
    "import numpy as num\n",
    "from sklearn.metrics import confusion_matrix\n",
    "from sklearn.model_selection import KFold\n",
    "#heart = X\n",
    "data = X\n",
    "target = y\n",
    "classnames = ['No(0)','Yes(1)']\n",
    "classnames\n",
    "labels, counts = num.unique(target, return_counts=True)\n",
    "print(data)\n",
    "def evaluate_model(data_x, data_y):\n",
    "    k_fold = KFold(n_splits=20, random_state=1, shuffle=True)\n",
    "\n",
    "    predicted_targets = num.array([])\n",
    "    actual_targets = num.array([])\n",
    "\n",
    "    for train_ix, test_ix in k_fold.split(data_x):\n",
    "        train_x, train_y, test_x, test_y = data_x[train_ix], data_y[train_ix], data_x[test_ix], data_y[test_ix]\n",
    "\n",
    "        classifiers = clf.fit(train_x, train_y)\n",
    "        predicted_labels = classifiers.predict(test_x)\n",
    "\n",
    "        predicted_targets = num.append(predicted_targets, predicted_labels)\n",
    "        actual_targets = num.append(actual_targets, test_y)\n",
    "\n",
    "    return predicted_targets, actual_targets\n",
    "  "
   ]
  },
  {
   "cell_type": "code",
   "execution_count": 87,
   "id": "2e3a72d8",
   "metadata": {},
   "outputs": [
    {
     "name": "stderr",
     "output_type": "stream",
     "text": [
      "C:\\Users\\ECS\\anaconda3\\lib\\site-packages\\sklearn\\linear_model\\_sag.py:352: ConvergenceWarning: The max_iter was reached which means the coef_ did not converge\n",
      "  warnings.warn(\n",
      "C:\\Users\\ECS\\anaconda3\\lib\\site-packages\\sklearn\\linear_model\\_sag.py:352: ConvergenceWarning: The max_iter was reached which means the coef_ did not converge\n",
      "  warnings.warn(\n",
      "C:\\Users\\ECS\\anaconda3\\lib\\site-packages\\sklearn\\linear_model\\_sag.py:352: ConvergenceWarning: The max_iter was reached which means the coef_ did not converge\n",
      "  warnings.warn(\n",
      "C:\\Users\\ECS\\anaconda3\\lib\\site-packages\\sklearn\\linear_model\\_sag.py:352: ConvergenceWarning: The max_iter was reached which means the coef_ did not converge\n",
      "  warnings.warn(\n",
      "C:\\Users\\ECS\\anaconda3\\lib\\site-packages\\sklearn\\linear_model\\_sag.py:352: ConvergenceWarning: The max_iter was reached which means the coef_ did not converge\n",
      "  warnings.warn(\n",
      "C:\\Users\\ECS\\anaconda3\\lib\\site-packages\\sklearn\\linear_model\\_sag.py:352: ConvergenceWarning: The max_iter was reached which means the coef_ did not converge\n",
      "  warnings.warn(\n",
      "C:\\Users\\ECS\\anaconda3\\lib\\site-packages\\sklearn\\linear_model\\_sag.py:352: ConvergenceWarning: The max_iter was reached which means the coef_ did not converge\n",
      "  warnings.warn(\n",
      "C:\\Users\\ECS\\anaconda3\\lib\\site-packages\\sklearn\\linear_model\\_sag.py:352: ConvergenceWarning: The max_iter was reached which means the coef_ did not converge\n",
      "  warnings.warn(\n",
      "C:\\Users\\ECS\\anaconda3\\lib\\site-packages\\sklearn\\linear_model\\_sag.py:352: ConvergenceWarning: The max_iter was reached which means the coef_ did not converge\n",
      "  warnings.warn(\n",
      "C:\\Users\\ECS\\anaconda3\\lib\\site-packages\\sklearn\\linear_model\\_sag.py:352: ConvergenceWarning: The max_iter was reached which means the coef_ did not converge\n",
      "  warnings.warn(\n",
      "C:\\Users\\ECS\\anaconda3\\lib\\site-packages\\sklearn\\linear_model\\_sag.py:352: ConvergenceWarning: The max_iter was reached which means the coef_ did not converge\n",
      "  warnings.warn(\n",
      "C:\\Users\\ECS\\anaconda3\\lib\\site-packages\\sklearn\\linear_model\\_sag.py:352: ConvergenceWarning: The max_iter was reached which means the coef_ did not converge\n",
      "  warnings.warn(\n",
      "C:\\Users\\ECS\\anaconda3\\lib\\site-packages\\sklearn\\linear_model\\_sag.py:352: ConvergenceWarning: The max_iter was reached which means the coef_ did not converge\n",
      "  warnings.warn(\n",
      "C:\\Users\\ECS\\anaconda3\\lib\\site-packages\\sklearn\\linear_model\\_sag.py:352: ConvergenceWarning: The max_iter was reached which means the coef_ did not converge\n",
      "  warnings.warn(\n",
      "C:\\Users\\ECS\\anaconda3\\lib\\site-packages\\sklearn\\linear_model\\_sag.py:352: ConvergenceWarning: The max_iter was reached which means the coef_ did not converge\n",
      "  warnings.warn(\n",
      "C:\\Users\\ECS\\anaconda3\\lib\\site-packages\\sklearn\\linear_model\\_sag.py:352: ConvergenceWarning: The max_iter was reached which means the coef_ did not converge\n",
      "  warnings.warn(\n",
      "C:\\Users\\ECS\\anaconda3\\lib\\site-packages\\sklearn\\linear_model\\_sag.py:352: ConvergenceWarning: The max_iter was reached which means the coef_ did not converge\n",
      "  warnings.warn(\n",
      "C:\\Users\\ECS\\anaconda3\\lib\\site-packages\\sklearn\\linear_model\\_sag.py:352: ConvergenceWarning: The max_iter was reached which means the coef_ did not converge\n",
      "  warnings.warn(\n",
      "C:\\Users\\ECS\\anaconda3\\lib\\site-packages\\sklearn\\linear_model\\_sag.py:352: ConvergenceWarning: The max_iter was reached which means the coef_ did not converge\n",
      "  warnings.warn(\n",
      "C:\\Users\\ECS\\anaconda3\\lib\\site-packages\\sklearn\\linear_model\\_sag.py:352: ConvergenceWarning: The max_iter was reached which means the coef_ did not converge\n",
      "  warnings.warn(\n"
     ]
    },
    {
     "name": "stdout",
     "output_type": "stream",
     "text": [
      "              precision    recall  f1-score   support\n",
      "\n",
      "         0.0       0.84      0.89      0.86       160\n",
      "         1.0       0.86      0.80      0.83       137\n",
      "\n",
      "    accuracy                           0.85       297\n",
      "   macro avg       0.85      0.85      0.85       297\n",
      "weighted avg       0.85      0.85      0.85       297\n",
      "\n",
      "Confusion matrix, without normalization\n"
     ]
    },
    {
     "data": {
      "image/png": "[encoded data removed]",
      "text/plain": [
       "<Figure size 432x288 with 2 Axes>"
      ]
     },
     "metadata": {
      "needs_background": "light"
     },
     "output_type": "display_data"
    }
   ],
   "source": [
    "def plot_confusion_matrix(predicted_labels_list, y_test_list):\n",
    "    cnf_matrix = confusion_matrix(y_test_list, predicted_labels_list, labels=[0,1])\n",
    "    num.set_printoptions(precision=2)\n",
    "    print (classification_report(actual_target, predicted_target))\n",
    "\n",
    "   \n",
    "    plot.figure()\n",
    "    generate_confusion_matrix(cnf_matrix, classes=['No(0)','Yes(1)'], normalize=False, title='Normalized confusion matrix')\n",
    "    plot.show()\n",
    "def generate_confusion_matrix(cnf_matrix, classes, normalize=False, title='Confusion matrix'):\n",
    "    if normalize:\n",
    "        cnf_matrix = cnf_matrix.astype('float') / cnf_matrix.sum(axis=1)[:, num.newaxis]\n",
    "        print(\"Normalized confusion matrix\")\n",
    "    else:\n",
    "        print('Confusion matrix, without normalization')\n",
    "\n",
    "    plot.imshow(cnf_matrix, interpolation='nearest', cmap=plt.get_cmap('Blues'))\n",
    "    plot.title(title)\n",
    "    plot.colorbar()\n",
    "\n",
    "    tick_marks = np.arange(len(classes))\n",
    "    plot.xticks(tick_marks, classes, rotation=45)\n",
    "    plot.yticks(tick_marks, classes)\n",
    "\n",
    "    fmt = '.2f' if normalize else 'd'\n",
    "    thresh = cnf_matrix.max() / 2.\n",
    "\n",
    "    for i, j in itertools.product(range(cnf_matrix.shape[0]), range(cnf_matrix.shape[1])):\n",
    "        plot.text(j, i, format(cnf_matrix[i, j], fmt), horizontalalignment=\"center\",\n",
    "                 color=\"black\" if cnf_matrix[i, j] > thresh else \"blue\")\n",
    "\n",
    "    plot.tight_layout()\n",
    "    plot.ylabel('True label')\n",
    "    plot.xlabel('Predicted label')\n",
    "\n",
    "    return cnf_matrix\n",
    "predicted_target, actual_target = evaluate_model(data, target)\n",
    "plot_confusion_matrix(predicted_target, actual_target)"
   ]
  },
  {
   "cell_type": "code",
   "execution_count": null,
   "id": "1beb7987",
   "metadata": {},
   "outputs": [],
   "source": []
  }
 ],
 "metadata": {
  "kernelspec": {
   "display_name": "Python 3 (ipykernel)",
   "language": "python",
   "name": "python3"
  },
  "language_info": {
   "codemirror_mode": {
    "name": "ipython",
    "version": 3
   },
   "file_extension": ".py",
   "mimetype": "text/x-python",
   "name": "python",
   "nbconvert_exporter": "python",
   "pygments_lexer": "ipython3",
   "version": "3.9.12"
  }
 },
 "nbformat": 4,
 "nbformat_minor": 5
}
